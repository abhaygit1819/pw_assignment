{
 "cells": [
  {
   "cell_type": "code",
   "execution_count": 3,
   "id": "88b04e4d-094a-4d4b-ba3b-35353c87c47d",
   "metadata": {},
   "outputs": [],
   "source": [
    "x=4"
   ]
  },
  {
   "cell_type": "code",
   "execution_count": 4,
   "id": "b78a56b3-7635-4483-b97f-74118397fab3",
   "metadata": {},
   "outputs": [],
   "source": [
    "y=5"
   ]
  },
  {
   "cell_type": "code",
   "execution_count": 5,
   "id": "ee11ff87-0663-4afb-bcbc-ad4021f07604",
   "metadata": {},
   "outputs": [],
   "source": [
    "# swapping without using temporary variable\n",
    "x,y=y,x"
   ]
  },
  {
   "cell_type": "code",
   "execution_count": 6,
   "id": "5ae8a4ed-016e-4dde-a9c3-634b4ec93acf",
   "metadata": {},
   "outputs": [
    {
     "data": {
      "text/plain": [
       "(5, 4)"
      ]
     },
     "execution_count": 6,
     "metadata": {},
     "output_type": "execute_result"
    }
   ],
   "source": [
    "x,y"
   ]
  },
  {
   "cell_type": "code",
   "execution_count": 9,
   "id": "f1459726-5722-4bda-b712-92e8d7f5edb5",
   "metadata": {},
   "outputs": [
    {
     "name": "stdin",
     "output_type": "stream",
     "text": [
      " 67\n",
      " 90\n"
     ]
    }
   ],
   "source": [
    "#taking input from user\n",
    "\n",
    "l=int(input())\n",
    "w=int(input())"
   ]
  },
  {
   "cell_type": "code",
   "execution_count": 10,
   "id": "e7c6bf1c-7cca-4ac2-b6b6-5c8a0eccf5c5",
   "metadata": {},
   "outputs": [],
   "source": [
    "#function for area of rectangle\n",
    "\n",
    "def areaRect(l1,w1):\n",
    "    return l1*w1"
   ]
  },
  {
   "cell_type": "code",
   "execution_count": 11,
   "id": "e27707dd-e286-4197-aea7-51ed255b98d7",
   "metadata": {},
   "outputs": [
    {
     "data": {
      "text/plain": [
       "6030"
      ]
     },
     "execution_count": 11,
     "metadata": {},
     "output_type": "execute_result"
    }
   ],
   "source": [
    "areaRect(l,w)"
   ]
  },
  {
   "cell_type": "code",
   "execution_count": 12,
   "id": "fa525308-310a-43bf-bffb-f247507b2873",
   "metadata": {},
   "outputs": [],
   "source": [
    "# convert form celcius to farenheit\n",
    "cel=50"
   ]
  },
  {
   "cell_type": "code",
   "execution_count": 13,
   "id": "28ffa01e-9225-44da-a4b9-1d394bf09b35",
   "metadata": {},
   "outputs": [],
   "source": [
    "#converting\n",
    "faren=cel*(9/5)+32"
   ]
  },
  {
   "cell_type": "code",
   "execution_count": 14,
   "id": "87f33014-4379-4009-abe0-62d1d37b1038",
   "metadata": {},
   "outputs": [
    {
     "data": {
      "text/plain": [
       "122.0"
      ]
     },
     "execution_count": 14,
     "metadata": {},
     "output_type": "execute_result"
    }
   ],
   "source": [
    "faren"
   ]
  },
  {
   "cell_type": "code",
   "execution_count": 15,
   "id": "71c115a5-23e3-4689-afcf-14d7709ab154",
   "metadata": {},
   "outputs": [
    {
     "name": "stdin",
     "output_type": "stream",
     "text": [
      " 'abhay'\n"
     ]
    }
   ],
   "source": [
    "#string -1\n",
    "# take string as a input\n",
    "s1=input()"
   ]
  },
  {
   "cell_type": "code",
   "execution_count": 16,
   "id": "36bb7d34-5ac2-4208-8aec-ac523e0c56b6",
   "metadata": {},
   "outputs": [],
   "source": [
    "#function return length of that string\n",
    "def lenstr(s):\n",
    "    return len(s)"
   ]
  },
  {
   "cell_type": "code",
   "execution_count": 17,
   "id": "b54aff9e-573f-4563-ae29-b321623b9ce7",
   "metadata": {},
   "outputs": [
    {
     "data": {
      "text/plain": [
       "7"
      ]
     },
     "execution_count": 17,
     "metadata": {},
     "output_type": "execute_result"
    }
   ],
   "source": [
    "lenstr(s1)"
   ]
  },
  {
   "cell_type": "code",
   "execution_count": 18,
   "id": "dd7e5764-8643-4fa0-b5a5-a73755780b2a",
   "metadata": {},
   "outputs": [],
   "source": [
    "#string -2\n",
    "#function for count vowels in a string\n",
    "def count_vowels(st1):\n",
    "    no_vowel=0\n",
    "    for i in st1:\n",
    "        if(i=='a' or i=='i' or i=='o'or i=='e' or i=='u' or i=='A' or i=='E' or i=='I' or i=='O' or i=='U'):\n",
    "            no_vowel+=1\n",
    "    return no_vowel"
   ]
  },
  {
   "cell_type": "code",
   "execution_count": 19,
   "id": "e459780d-c24f-42c4-9977-80d97931a2c0",
   "metadata": {},
   "outputs": [
    {
     "data": {
      "text/plain": [
       "7"
      ]
     },
     "execution_count": 19,
     "metadata": {},
     "output_type": "execute_result"
    }
   ],
   "source": [
    "# take a string and check no of vowels\n",
    "rand_str=\"let's check the no. of vowels\"\n",
    "count_vowels(rand_str)"
   ]
  },
  {
   "cell_type": "code",
   "execution_count": 20,
   "id": "b9aacec3-71bd-4dbb-ab7a-328f2b9d8ff6",
   "metadata": {},
   "outputs": [
    {
     "data": {
      "text/plain": [
       "\"kcehc s'tel\""
      ]
     },
     "execution_count": 20,
     "metadata": {},
     "output_type": "execute_result"
    }
   ],
   "source": [
    "#string-3\n",
    "# reverse a string using slicing ad print reversed string\n",
    "rand_string=\"let's check\"\n",
    "reverse_it=rand_string[::-1]\n",
    "reverse_it"
   ]
  },
  {
   "cell_type": "code",
   "execution_count": 21,
   "id": "2dc3f9ea-661d-4ae3-99d7-2ebe46bdf9b4",
   "metadata": {},
   "outputs": [],
   "source": [
    "# string-4\n",
    "#check palindrome let's take a string\n",
    "rand_str=\"ababababa\" "
   ]
  },
  {
   "cell_type": "code",
   "execution_count": 22,
   "id": "b659e1db-90e8-45d2-b4aa-6aca1624550e",
   "metadata": {},
   "outputs": [],
   "source": [
    "#find its reversed string\n",
    "reversed_str2=rand_str[::-1]"
   ]
  },
  {
   "cell_type": "code",
   "execution_count": 23,
   "id": "c9840e92-8961-4b6f-8c69-6a83445c7d1d",
   "metadata": {},
   "outputs": [
    {
     "name": "stdout",
     "output_type": "stream",
     "text": [
      "yes it is palindrome\n"
     ]
    }
   ],
   "source": [
    "#if the string and reversed string are equal then our string are palindrome\n",
    "if rand_str== reversed_str2:\n",
    "    print('yes it is palindrome')\n",
    "else:\n",
    "    print(\"no it is not palindrome\")"
   ]
  },
  {
   "cell_type": "code",
   "execution_count": 24,
   "id": "be2a8fdd-7d6e-4e80-b000-a7d3875502da",
   "metadata": {},
   "outputs": [],
   "source": [
    "# string-5\n",
    "# take a string\n",
    "str3='chalo dekhte hai'"
   ]
  },
  {
   "cell_type": "code",
   "execution_count": 25,
   "id": "fb13480e-5de6-4a0e-91a0-34c9369640ee",
   "metadata": {},
   "outputs": [
    {
     "data": {
      "text/plain": [
       "'chalodekhtehai'"
      ]
     },
     "execution_count": 25,
     "metadata": {},
     "output_type": "execute_result"
    }
   ],
   "source": [
    "modified_str3=''\n",
    "for i in str3:\n",
    "    if i!=' ':\n",
    "        modified_str3+=i\n",
    "modified_str3"
   ]
  }
 ],
 "metadata": {
  "kernelspec": {
   "display_name": "Python 3 (ipykernel)",
   "language": "python",
   "name": "python3"
  },
  "language_info": {
   "codemirror_mode": {
    "name": "ipython",
    "version": 3
   },
   "file_extension": ".py",
   "mimetype": "text/x-python",
   "name": "python",
   "nbconvert_exporter": "python",
   "pygments_lexer": "ipython3",
   "version": "3.10.8"
  }
 },
 "nbformat": 4,
 "nbformat_minor": 5
}
